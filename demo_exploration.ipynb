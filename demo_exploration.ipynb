{
 "cells": [
  {
   "cell_type": "code",
   "execution_count": 41,
   "metadata": {},
   "outputs": [],
   "source": [
    "import pandas as pd\n",
    "import os\n",
    "import numpy as np\n",
    "import mne\n",
    "from sklearn.model_selection import train_test_split\n",
    "\n",
    "#features \n",
    "features_file = '/home/mat/eeg_epilepsy/filtered_demo_epilepsy.csv'\n",
    "participant_file='/home/mat/projects/def-kjerbi/cocolab_data/EEG_ADHD_epilepsy_psychostimulants/BIDS/participants.tsv'\n",
    "# Read CSV into a DataFrame\n",
    "features = pd.read_csv(features_file)\n",
    "participants_df = pd.read_csv(participant_file, sep='\\t')\n",
    "#select that don't have autism or adhd \n",
    "participants = participants_df[(participants_df['ADHD'] == '0') & (participants_df['Autism'] == '0')]\n",
    "\n",
    "# remove duplicates\n",
    "participants_relevant = participants[['participant_id', 'age', 'sex', 'Epilepsy', 'Psychostimulant']]\n",
    "\n",
    "\n"
   ]
  },
  {
   "cell_type": "code",
   "execution_count": 49,
   "metadata": {},
   "outputs": [
    {
     "name": "stdout",
     "output_type": "stream",
     "text": [
      "Test Accuracy: 0.34615384615384615\n",
      "Confusion Matrix:\n",
      " [[18  0]\n",
      " [34  0]]\n",
      "intercept [0.]\n",
      "coef [0. 0. 0. ... 0. 0. 0.]\n"
     ]
    },
    {
     "name": "stderr",
     "output_type": "stream",
     "text": [
      "/home/mat/mat_env/lib/python3.10/site-packages/sklearn/linear_model/_logistic.py:469: ConvergenceWarning: lbfgs failed to converge (status=2):\n",
      "ABNORMAL: .\n",
      "\n",
      "Increase the number of iterations (max_iter) or scale the data as shown in:\n",
      "    https://scikit-learn.org/stable/modules/preprocessing.html\n",
      "Please also refer to the documentation for alternative solver options:\n",
      "    https://scikit-learn.org/stable/modules/linear_model.html#logistic-regression\n",
      "  n_iter_i = _check_optimize_result(\n"
     ]
    }
   ],
   "source": [
    "from sklearn.linear_model import LogisticRegression\n",
    "from sklearn.metrics import accuracy_score, confusion_matrix\n",
    "\n",
    "# merge dfs \n",
    "X = features\n",
    "X.replace([np.inf, -np.inf], np.nan, inplace=True)\n",
    "X = X.dropna()\n",
    "y = participants['Epilepsy']\n",
    "y = y.iloc[:len(X)]\n",
    "\n",
    "# X_train, X_test, y_train, y_test = train_test_split(X, y, test_size=0.2, random_state=42)\n",
    "# convert to binary \n",
    "y = y.replace('0 (potentiel)', '0')\n",
    "\n",
    "# X = X.values.astype(float)\n",
    "model = LogisticRegression()\n",
    "# print(\"Columns with inf values:\\n\", X.columns[np.isinf(X).any()])\n",
    "X_train, X_test, y_train, y_test = train_test_split(X, y, test_size=0.2, random_state=42)\n",
    "model.fit(X_train, y_train)\n",
    "\n",
    "# predictions: \n",
    "y_pred = model.predict(X_test)\n",
    "print(\"Test Accuracy:\", accuracy_score(y_test, y_pred))\n",
    "# confusion matrix: True negatives upper-left, False negatives lower-left, False positives upper-right, True positives lower-right\n",
    "print(\"Confusion Matrix:\\n\", confusion_matrix(y_test, y_pred))\n",
    "#intercept\n",
    "print(\"intercept\", model.intercept_)\n",
    "#coeficients\n",
    "print('coef', model.coef_[0])\n",
    "# # Evaluate the Model\n",
    "# model.predict_proba(X)"
   ]
  },
  {
   "cell_type": "code",
   "execution_count": 51,
   "metadata": {},
   "outputs": [
    {
     "name": "stdout",
     "output_type": "stream",
     "text": [
      "Test Accuracy: 0.5961538461538461\n",
      "Confusion Matrix:\n",
      " [[ 6 12]\n",
      " [ 9 25]]\n",
      "feature-BandRatiosFromAverageSpectrum.bands_pairs-('delta', 'beta').spaces-T6     0.009041\n",
      "feature-BandRatiosFromAverageFooof.bands_pairs-('delta', 'theta').spaces-O2       0.006142\n",
      "subject                                                                           0.005372\n",
      "feature-BandRatiosFromAverageSpectrum.bands_pairs-('theta', 'delta').spaces-O1    0.004578\n",
      "feature-BandRatiosFromAverageFooof.bands_pairs-('theta', 'delta').spaces-T6       0.004394\n",
      "                                                                                    ...   \n",
      "feature-BandRatiosFromAverageFooof.bands_pairs-('gamma', 'beta').spaces-C4        0.000000\n",
      "feature-BandRatiosFromAverageFooof.bands_pairs-('gamma', 'alpha').spaces-T5       0.000000\n",
      "feature-BandRatiosFromAverageFooof.bands_pairs-('gamma', 'delta').spaces-O1       0.000000\n",
      "feature-BandRatiosFromAverageFooof.bands_pairs-('gamma', 'delta').spaces-Fz       0.000000\n",
      "feature-BandRatiosFromAverageSpectrum.bands_pairs-('alpha', 'beta').spaces-O2     0.000000\n",
      "Length: 1275, dtype: float64\n"
     ]
    }
   ],
   "source": [
    "from sklearn.ensemble import RandomForestClassifier\n",
    "\n",
    "X = features\n",
    "X = X.replace([np.inf, -np.inf], np.nan)\n",
    "\n",
    "# Drop rows with NaN\n",
    "X = X.dropna()\n",
    "# Clip extreme values to safe range for float32\n",
    "X = X.clip(lower=-1e30, upper=1e30) \n",
    "\n",
    "# Convert explicitly to float64 (avoid float32 default in RF internals)\n",
    "y = y.iloc[:len(X)]\n",
    "\n",
    "# Fit Random Forest\n",
    "model = RandomForestClassifier()\n",
    "X_train, X_test, y_train, y_test = train_test_split(X, y, test_size=0.2, random_state=42)\n",
    "model.fit(X_train, y_train)\n",
    "\n",
    "# predictions: \n",
    "y_pred = model.predict(X_test)\n",
    "print(\"Test Accuracy:\", accuracy_score(y_test, y_pred))\n",
    "print(\"Confusion Matrix:\\n\", confusion_matrix(y_test, y_pred))\n",
    "\n",
    "\n",
    "#feature importance \n",
    "\n",
    "feature_importances = model.feature_importances_\n",
    "importance_df = pd.Series(feature_importances, index=X.columns)\n",
    "print(importance_df.sort_values(ascending=False))\n"
   ]
  },
  {
   "cell_type": "code",
   "execution_count": 65,
   "metadata": {},
   "outputs": [
    {
     "data": {
      "image/png": "[encoded data removed]",
      "text/plain": [
       "<Figure size 500x500 with 1 Axes>"
      ]
     },
     "metadata": {},
     "output_type": "display_data"
    }
   ],
   "source": [
    "#visualizing feature importance\n",
    "import matplotlib.pyplot as plt\n",
    "short_names = [col[:5] for col in importance_df.index]  # or any number of chars\n",
    "importance_df.index = short_names\n",
    "plt.figure(figsize=(5, 5))  # Increase figure height and width\n",
    "importance_df.sort_values().plot(kind='barh', fontsize=12)\n",
    "plt.title(\"Feature Importances (Random Forest)\")\n",
    "plt.xlabel(\"Importance Score\")\n",
    "plt.tight_layout()\n",
    "plt.show()"
   ]
  },
  {
   "cell_type": "markdown",
   "metadata": {},
   "source": [
    "Select ids  while keeping the age/sex group same"
   ]
  },
  {
   "cell_type": "code",
   "execution_count": null,
   "metadata": {},
   "outputs": [],
   "source": [
    "\n",
    "# Just the IDs\n",
    "\n",
    "sampled_ids = participants['participant_id'].tolist()\n",
    "\n",
    "num_rows = participants.shape[0]\n",
    "participants['age_group'] = pd.cut(participants['age.6'], bins=[5.0, 13.0, 18.0], labels=['5-13', '13-18'], right=False)\n",
    "participants['strata'] = participants['sex.6'] + '_' + participants['age_group'].astype(str)\n",
    "df_strat = participants.dropna(subset=['strata'])\n",
    "\n",
    "# Stratified sampling\n",
    "sampled_df, _ = train_test_split(\n",
    "    df_strat,\n",
    "    train_size=238,\n",
    "    stratify=df_strat['strata'],\n",
    "    random_state=42\n",
    ")\n"
   ]
  }
 ],
 "metadata": {
  "kernelspec": {
   "display_name": "Python 3 (ipykernel)",
   "language": "python",
   "name": "python3"
  },
  "language_info": {
   "codemirror_mode": {
    "name": "ipython",
    "version": 3
   },
   "file_extension": ".py",
   "mimetype": "text/x-python",
   "name": "python",
   "nbconvert_exporter": "python",
   "pygments_lexer": "ipython3",
   "version": "3.10.13"
  }
 },
 "nbformat": 4,
 "nbformat_minor": 2
}
